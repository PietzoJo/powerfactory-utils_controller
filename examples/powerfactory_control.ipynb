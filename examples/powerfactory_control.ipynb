{
 "cells": [
  {
   "cell_type": "code",
   "execution_count": null,
   "metadata": {},
   "outputs": [],
   "source": [
    "%load_ext autoreload\n",
    "%autoreload 2"
   ]
  },
  {
   "cell_type": "code",
   "execution_count": null,
   "metadata": {},
   "outputs": [
    {
     "name": "stdout",
     "output_type": "stream",
     "text": [
      "some Words.\n"
     ]
    },
    {
     "data": {
      "text/plain": [
       "\"\\nfor root, dirs, files in os.walk(r'\\\\etieeh.loc\\\\homes\\\\evstd\\\\s0458299\\\\Documents\\\\powerfactory-utils_controller\\\\powerfactory_utils'):\\n    for name in files:\\n        if name == 'exporter.py': \\n            print(os.path.abspath(os.path.join(root, name)))\\n        if name == 'controller.py': \\n            print(os.path.abspath(os.path.join(root, name)))\\n\\nsys.path\\n\""
      ]
     },
     "execution_count": 2,
     "metadata": {},
     "output_type": "execute_result"
    }
   ],
   "source": [
    "import pathlib\n",
    "import os\n",
    "import sys\n",
    "from powerfactory_utils.exporter import PowerfactoryExporter\n",
    "from powerfactory_utils.controller import PowerfactoryController\n",
    "\"\"\"\n",
    "for root, dirs, files in os.walk(r'\\\\etieeh.loc\\homes\\evstd\\s0458299\\Documents\\powerfactory-utils_controller\\powerfactory_utils'):\n",
    "    for name in files:\n",
    "        if name == 'exporter.py': \n",
    "            print(os.path.abspath(os.path.join(root, name)))\n",
    "        if name == 'controller.py': \n",
    "            print(os.path.abspath(os.path.join(root, name)))\n",
    "\n",
    "sys.path\n",
    "\"\"\""
   ]
  },
  {
   "cell_type": "code",
   "execution_count": 3,
   "metadata": {},
   "outputs": [],
   "source": [
    "PROJECT_NAME = \"PowerFactory-Utils\"  # may be also full path \"dir_name\\project_name\"\n",
    "GRID_NAME = \"HV_8_Bus\"\n",
    "PF_USER_PROFILE = \"s0458299\"    # specification may be necessary\n"
   ]
  },
  {
   "cell_type": "markdown",
   "metadata": {},
   "source": [
    "Example using controller.py"
   ]
  },
  {
   "cell_type": "code",
   "execution_count": 4,
   "metadata": {},
   "outputs": [
    {
     "name": "stdout",
     "output_type": "stream",
     "text": [
      "<l3>\\s0458299.IntUser\\PowerFactory-Utils.IntPrj\\Netzmodell.IntPrjfolder\\Netzdaten.IntPrjfolder\\HV_8_Bus.ElmNet\\StatGenerator_1.ElmGenstat</l3>\n",
      "<l3>\\s0458299.IntUser\\PowerFactory-Utils.IntPrj\\Netzmodell.IntPrjfolder\\Netzdaten.IntPrjfolder\\HV_8_Bus.ElmNet\\StatGenerator_2.ElmGenstat</l3>\n",
      "<l3>\\s0458299.IntUser\\PowerFactory-Utils.IntPrj\\Netzmodell.IntPrjfolder\\Netzdaten.IntPrjfolder\\HV_8_Bus.ElmNet\\WTG.ElmGenstat</l3>\n",
      "<l3>\\s0458299.IntUser\\PowerFactory-Utils.IntPrj\\Netzmodell.IntPrjfolder\\Netzdaten.IntPrjfolder\\HV_8_Bus.ElmNet\\StatGenerator_3.ElmGenstat</l3>\n"
     ]
    }
   ],
   "source": [
    "#initialize controller\n",
    "controller = PowerfactoryController(project_name=PROJECT_NAME, grid_name=GRID_NAME, powerfactory_user_profile=PF_USER_PROFILE)\n",
    "#get all grid generators \n",
    "generators = controller.get_all_generators()\n",
    "_=[print(gen.loc_name) for gen in generators]\n",
    "_=[print(attr) for attr in controller.get_generator_attr(generators[0])]"
   ]
  }
 ],
 "metadata": {
  "kernelspec": {
   "display_name": "Python 3.9.6 ('.venv': venv)",
   "language": "python",
   "name": "python3"
  },
  "language_info": {
   "codemirror_mode": {
    "name": "ipython",
    "version": 3
   },
   "file_extension": ".py",
   "mimetype": "text/x-python",
   "name": "python",
   "nbconvert_exporter": "python",
   "pygments_lexer": "ipython3",
   "version": "3.9.6"
  },
  "orig_nbformat": 4,
  "vscode": {
   "interpreter": {
    "hash": "1eb9d8a40e1d71896239391101f6f9ad6f2a61abccd67d873a4e7de60a909637"
   }
  }
 },
 "nbformat": 4,
 "nbformat_minor": 2
}
