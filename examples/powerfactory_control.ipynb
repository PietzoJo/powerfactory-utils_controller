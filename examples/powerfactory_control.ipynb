{
 "cells": [
  {
   "cell_type": "code",
   "execution_count": 1,
   "metadata": {},
   "outputs": [],
   "source": [
    "%load_ext autoreload\n",
    "%autoreload 2"
   ]
  },
  {
   "cell_type": "code",
   "execution_count": 2,
   "metadata": {},
   "outputs": [],
   "source": [
    "import pathlib\n",
    "import os\n",
    "import sys\n",
    "from powerfactory_utils.exporter import PowerfactoryExporter\n",
    "from powerfactory_utils.controller import PowerfactoryController\n"
   ]
  },
  {
   "cell_type": "code",
   "execution_count": 3,
   "metadata": {},
   "outputs": [],
   "source": [
    "PROJECT_NAME = \"PowerFactory-Utils\"  # may be also full path \"dir_name\\project_name\"\n",
    "GRID_NAME = \"HV_8_Bus\"\n",
    "PF_USER_PROFILE = \"s0458299\"    # specification may be necessary\n"
   ]
  },
  {
   "cell_type": "markdown",
   "metadata": {},
   "source": [
    "Example using controller.py to get all generators"
   ]
  },
  {
   "cell_type": "code",
   "execution_count": 4,
   "metadata": {},
   "outputs": [
    {
     "name": "stdout",
     "output_type": "stream",
     "text": [
      "StatGenerator_1\n",
      "StatGenerator_2\n",
      "WTG\n",
      "StatGenerator_3\n",
      "{'name': 'StatGenerator_2', 'outserv': 0, 'load_fl_mode': 'DEF', 'power': 0.4000000059604645, 'cos_phi': 1.0, 'cos_attr': 0, 'cCategory': 'Statischer Generator'}\n",
      "{'name': 'WTG', 'outserv': 0, 'load_fl_mode': 'DEF', 'power': 5.0, 'cos_phi': 1.0, 'cos_attr': 0, 'cCategory': 'Wind'}\n",
      "{'name': 'StatGenerator_3', 'outserv': 0, 'load_fl_mode': 'PC', 'power': 0.5, 'cos_phi': 0.699999988079071, 'cos_attr': 1, 'cCategory': 'Wind'}\n"
     ]
    }
   ],
   "source": [
    "#initialize controller\n",
    "controller = PowerfactoryController(project_name=PROJECT_NAME, grid_name=GRID_NAME, powerfactory_user_profile=PF_USER_PROFILE)\n",
    "#get all grid generators \n",
    "generators1 = controller.get_all_generators()\n",
    "_=[print(gen.loc_name) for gen in generators1]\n",
    "\n",
    "print(controller.get_generator_attr(generators1[1]))\n"
   ]
  },
  {
   "cell_type": "markdown",
   "metadata": {},
   "source": [
    "Example 2 using controller.py to get all windturbines"
   ]
  },
  {
   "cell_type": "code",
   "execution_count": 4,
   "metadata": {},
   "outputs": [
    {
     "name": "stdout",
     "output_type": "stream",
     "text": [
      "WTG\n",
      "StatGenerator_3\n",
      "{'name': 'WTG', 'outserv': 0, 'load_fl_mode': 'DEF', 'power': 5.0, 'cos_phi': 1.0, 'cos_attr': 0, 'cCategory': 'Wind'}\n"
     ]
    }
   ],
   "source": [
    "#initialize controller\n",
    "controller = PowerfactoryController(project_name=PROJECT_NAME, grid_name=GRID_NAME, powerfactory_user_profile=PF_USER_PROFILE)\n",
    "#get all grid generators \n",
    "windturbine = controller.get_all_generators(category='Wind')\n",
    "_=[print(gen.loc_name) for gen in windturbine]\n",
    "print(controller.get_generator_attr(windturbine[0]))"
   ]
  }
 ],
 "metadata": {
  "kernelspec": {
   "display_name": "Python 3.9.6 ('.venv': venv)",
   "language": "python",
   "name": "python3"
  },
  "language_info": {
   "codemirror_mode": {
    "name": "ipython",
    "version": 3
   },
   "file_extension": ".py",
   "mimetype": "text/x-python",
   "name": "python",
   "nbconvert_exporter": "python",
   "pygments_lexer": "ipython3",
   "version": "3.9.6"
  },
  "orig_nbformat": 4,
  "vscode": {
   "interpreter": {
    "hash": "1eb9d8a40e1d71896239391101f6f9ad6f2a61abccd67d873a4e7de60a909637"
   }
  }
 },
 "nbformat": 4,
 "nbformat_minor": 2
}
