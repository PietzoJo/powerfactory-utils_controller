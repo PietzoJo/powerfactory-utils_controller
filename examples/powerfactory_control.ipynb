{
 "cells": [
  {
   "cell_type": "code",
   "execution_count": 1,
   "metadata": {},
   "outputs": [],
   "source": [
    "%load_ext autoreload\n",
    "%autoreload 2"
   ]
  },
  {
   "cell_type": "code",
   "execution_count": 2,
   "metadata": {},
   "outputs": [],
   "source": [
    "import pathlib\n",
    "import os\n",
    "import sys\n",
    "from powerfactory_utils.exporter import PowerfactoryExporter\n",
    "from powerfactory_utils.controller import PowerfactoryController\n"
   ]
  },
  {
   "cell_type": "code",
   "execution_count": 3,
   "metadata": {},
   "outputs": [],
   "source": [
    "PROJECT_NAME = \"PowerFactory-Utils\"  # may be also full path \"dir_name\\project_name\"\n",
    "GRID_NAME = \"HV_8_Bus\"\n",
    "PF_USER_PROFILE = \"s0458299\"    # specification may be necessary\n"
   ]
  },
  {
   "cell_type": "code",
   "execution_count": 4,
   "metadata": {},
   "outputs": [],
   "source": [
    "#initialize controller\n",
    "controller = PowerfactoryController(project_name=PROJECT_NAME, grid_name=GRID_NAME, powerfactory_user_profile=PF_USER_PROFILE)"
   ]
  },
  {
   "cell_type": "markdown",
   "metadata": {},
   "source": [
    "I- get information about grid generators:\n",
    "-----------------------------------------------------------"
   ]
  },
  {
   "cell_type": "markdown",
   "metadata": {},
   "source": [
    "Example I.1 - using controller.py to get all generators"
   ]
  },
  {
   "cell_type": "code",
   "execution_count": 5,
   "metadata": {},
   "outputs": [
    {
     "name": "stdout",
     "output_type": "stream",
     "text": [
      "StatGenerator_1\n",
      "StatGenerator_2\n",
      "WTG\n",
      "StatGenerator_3\n",
      "{'name': 'StatGenerator_2', 'outserv': 0, 'load_fl_mode': 'DEF', 'power': 0.4000000059604645, 'cos_phi': 1.0, 'cos_attr': 0, 'cCategory': 'Statischer Generator'}\n"
     ]
    }
   ],
   "source": [
    "#get all grid generators \n",
    "generators1 = controller.get_all_generators()\n",
    "_=[print(gen.loc_name) for gen in generators1]\n",
    "\n",
    "print(controller.get_generator_attr(generators1[1]))\n"
   ]
  },
  {
   "cell_type": "markdown",
   "metadata": {},
   "source": [
    "Example I.2 - using controller.py to get all windpowerplants"
   ]
  },
  {
   "cell_type": "code",
   "execution_count": 6,
   "metadata": {},
   "outputs": [
    {
     "name": "stdout",
     "output_type": "stream",
     "text": [
      "all grid windturbines:\n",
      "WTG\n",
      "StatGenerator_3\n",
      "{'name': 'WTG', 'outserv': 0, 'load_fl_mode': 'DEF', 'power': 5.0, 'cos_phi': 1.0, 'cos_attr': 0, 'cCategory': 'Wind'}\n"
     ]
    }
   ],
   "source": [
    "#get all grid generators \n",
    "windturbine = controller.get_all_generators(category='Wind') #TODO: WIND, Statischer Generator, falls die implementiert werden, sind es immer deutschsprachige Wörter?\n",
    "print('all grid windturbines:')\n",
    "_=[print(gen.loc_name) for gen in windturbine]\n",
    "print(controller.get_generator_attr(windturbine[0]))"
   ]
  },
  {
   "cell_type": "markdown",
   "metadata": {},
   "source": [
    "II - Create a new grid generator\n",
    "------------------------------------------------------------------\n"
   ]
  },
  {
   "cell_type": "markdown",
   "metadata": {},
   "source": [
    "Example II.1 - create new generator at specific bus"
   ]
  },
  {
   "cell_type": "code",
   "execution_count": 7,
   "metadata": {},
   "outputs": [
    {
     "name": "stdout",
     "output_type": "stream",
     "text": [
      "all grid generators:\n",
      "StatGenerator_1\n",
      "StatGenerator_2\n",
      "WTG\n",
      "StatGenerator_3\n",
      "newGEN\n"
     ]
    }
   ],
   "source": [
    "#name new generator\n",
    "NAME = \"newGEN\"\n",
    "#select bus\n",
    "bus = 'Node_4'\n",
    "#create generator with controller.py\n",
    "new_one = controller.create_generator(name=NAME, name_bus=bus)\n",
    "#check, whether new generator is existing in grid\n",
    "generators1 = controller.get_all_generators()\n",
    "print(\"all grid generators:\")\n",
    "_=[print(gen.loc_name) for gen in generators1]"
   ]
  },
  {
   "cell_type": "markdown",
   "metadata": {},
   "source": [
    "Example II.2 - select generator, create generator as new template and take original generator out of service, create new graphical grid model"
   ]
  },
  {
   "cell_type": "code",
   "execution_count": 5,
   "metadata": {},
   "outputs": [
    {
     "name": "stdout",
     "output_type": "stream",
     "text": [
      "WindFarm_directStatGenerator_3\n",
      "Line_WFStatGenerator_3\n",
      "PCC_WTGStatGenerator_3\n",
      "Node_WTGStatGenerator_3\n",
      "WTGStatGenerator_3\n",
      "Line_WTGStatGenerator_3\n",
      "Anlagenregelung_Q(U)StatGenerator_3\n"
     ]
    }
   ],
   "source": [
    "# name of the generator to exchange with template\n",
    "gen = \"StatGenerator_3\"\n",
    "# name of the wanted template\n",
    "temp = \"WindFarm_direct\"\n",
    "# create new template and takeoriginal generatorout of service\n",
    "ele = controller.replace_gen_template(generator=gen, template=temp)\n",
    "# create new graphical grid\n",
    "sys = controller.run_layout()\n"
   ]
  }
 ],
 "metadata": {
  "kernelspec": {
   "display_name": "Python 3.9.6 ('.venv': venv)",
   "language": "python",
   "name": "python3"
  },
  "language_info": {
   "codemirror_mode": {
    "name": "ipython",
    "version": 3
   },
   "file_extension": ".py",
   "mimetype": "text/x-python",
   "name": "python",
   "nbconvert_exporter": "python",
   "pygments_lexer": "ipython3",
   "version": "3.9.6"
  },
  "orig_nbformat": 4,
  "vscode": {
   "interpreter": {
    "hash": "1eb9d8a40e1d71896239391101f6f9ad6f2a61abccd67d873a4e7de60a909637"
   }
  }
 },
 "nbformat": 4,
 "nbformat_minor": 2
}
