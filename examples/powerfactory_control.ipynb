{
 "cells": [
  {
   "cell_type": "code",
   "execution_count": 1,
   "metadata": {},
   "outputs": [],
   "source": [
    "%load_ext autoreload\n",
    "%autoreload 2"
   ]
  },
  {
   "cell_type": "code",
   "execution_count": 2,
   "metadata": {},
   "outputs": [],
   "source": [
    "import pathlib\n",
    "import os\n",
    "import sys\n",
    "from powerfactory_utils.exporter import PowerfactoryExporter\n",
    "from powerfactory_utils.controller import PowerfactoryController\n"
   ]
  },
  {
   "cell_type": "code",
   "execution_count": 3,
   "metadata": {},
   "outputs": [],
   "source": [
    "PROJECT_NAME = \"PowerFactory-Utils\"  # may be also full path \"dir_name\\project_name\"\n",
    "GRID_NAME = \"HV_8_Bus\"\n",
    "PF_USER_PROFILE = \"s0458299\"    # specification may be necessary\n"
   ]
  },
  {
   "cell_type": "code",
   "execution_count": 1,
   "metadata": {},
   "outputs": [],
   "source": [
    "#TODO: LÖSCHEN\n",
    "%load_ext autoreload\n",
    "%autoreload 2\n",
    "\n",
    "import pathlib\n",
    "import os\n",
    "import sys\n",
    "from powerfactory_utils.exporter import PowerfactoryExporter\n",
    "from powerfactory_utils.controller import PowerfactoryController\n",
    "\n",
    "PROJECT_NAME = \"PowerFactory-Utils\"  # may be also full path \"dir_name\\project_name\"\n",
    "GRID_NAME = \"HV_8_Bus\"\n",
    "PF_USER_PROFILE = \"s0458299\"    # specification may be necessary"
   ]
  },
  {
   "cell_type": "markdown",
   "metadata": {},
   "source": [
    "I- examples with aim:\n",
    "-----------------------------------------------------------\n",
    "- list of all grid generators\n",
    "- list of special grid generators like windpowerplants\n",
    "- information about gridelement like S,P,Q"
   ]
  },
  {
   "cell_type": "markdown",
   "metadata": {},
   "source": [
    "Example I.1 - using controller.py to get all generators"
   ]
  },
  {
   "cell_type": "code",
   "execution_count": 4,
   "metadata": {},
   "outputs": [
    {
     "name": "stdout",
     "output_type": "stream",
     "text": [
      "StatGenerator_1\n",
      "StatGenerator_2\n",
      "WTG\n",
      "StatGenerator_3\n",
      "{'name': 'StatGenerator_2', 'outserv': 0, 'load_fl_mode': 'DEF', 'power': 0.4000000059604645, 'cos_phi': 1.0, 'cos_attr': 0, 'cCategory': 'Statischer Generator'}\n"
     ]
    }
   ],
   "source": [
    "#initialize controller\n",
    "controller = PowerfactoryController(project_name=PROJECT_NAME, grid_name=GRID_NAME, powerfactory_user_profile=PF_USER_PROFILE)\n",
    "#get all grid generators \n",
    "generators1 = controller.get_all_generators()\n",
    "_=[print(gen.loc_name) for gen in generators1]\n",
    "\n",
    "print(controller.get_generator_attr(generators1[1]))\n"
   ]
  },
  {
   "cell_type": "markdown",
   "metadata": {},
   "source": [
    "Example I.2 - using controller.py to get all windpowerplants"
   ]
  },
  {
   "cell_type": "code",
   "execution_count": 4,
   "metadata": {},
   "outputs": [
    {
     "name": "stdout",
     "output_type": "stream",
     "text": [
      "WTG\n",
      "StatGenerator_3\n",
      "{'name': 'WTG', 'outserv': 0, 'load_fl_mode': 'DEF', 'power': 5.0, 'cos_phi': 1.0, 'cos_attr': 0, 'cCategory': 'Wind'}\n"
     ]
    }
   ],
   "source": [
    "#initialize controller\n",
    "controller = PowerfactoryController(project_name=PROJECT_NAME, grid_name=GRID_NAME, powerfactory_user_profile=PF_USER_PROFILE)\n",
    "#get all grid generators \n",
    "windturbine = controller.get_all_generators(category='Wind') #TODO: WIND, Statischer Generator, falls die implementiert werden, sind es immer deutschsprachige Wörter?\n",
    "_=[print(gen.loc_name) for gen in windturbine]\n",
    "print(controller.get_generator_attr(windturbine[0]))"
   ]
  },
  {
   "cell_type": "markdown",
   "metadata": {},
   "source": [
    "II - Create a new grid generator with special attributes:\n",
    "----------------------------------------------------------------------\n",
    "- cCategory: 'Something'\n"
   ]
  },
  {
   "cell_type": "code",
   "execution_count": 2,
   "metadata": {},
   "outputs": [],
   "source": [
    "#initialize controller\n",
    "controller = PowerfactoryController(project_name=PROJECT_NAME, grid_name=GRID_NAME, powerfactory_user_profile=PF_USER_PROFILE)\n"
   ]
  },
  {
   "cell_type": "markdown",
   "metadata": {},
   "source": [
    "Example II.1"
   ]
  },
  {
   "cell_type": "code",
   "execution_count": 4,
   "metadata": {},
   "outputs": [
    {
     "name": "stdout",
     "output_type": "stream",
     "text": [
      "[<powerfactory.DataObject <l1>\\s0458299.IntUser\\PowerFactory-Utils.IntPrj\\Netzmodell.IntPrjfolder\\Netzdaten.IntPrjfolder\\HV_8_Bus.ElmNet\\Node_4.ElmTerm\\Feld_12.StaCubic</l1>>]\n",
      "Attr is not none\n",
      "Attr is not none\n",
      "<l3>\\s0458299.IntUser\\PowerFactory-Utils.IntPrj\\Netzmodell.IntPrjfolder\\Netzdaten.IntPrjfolder\\HV_8_Bus.ElmNet\\newGEN.ElmGenstat</l3>\n",
      "StatGenerator_1\n",
      "StatGenerator_2\n",
      "WTG\n",
      "StatGenerator_3\n",
      "newGEN\n",
      "newGEN <l3>\\s0458299.IntUser\\PowerFactory-Utils.IntPrj\\Netzmodell.IntPrjfolder\\Netzdaten.IntPrjfolder\\HV_8_Bus.ElmNet\\Node_4.ElmTerm\\Feld_12.StaCubic</l3>\n"
     ]
    }
   ],
   "source": [
    "NAME = \"newGEN\"\n",
    "new_one = controller.create_generator(name=NAME)\n",
    "generators1 = controller.get_all_generators()\n",
    "_=[print(gen.loc_name) for gen in generators1]\n",
    "print(generators1[4].loc_name, generators1[4].bus1)\n"
   ]
  },
  {
   "cell_type": "markdown",
   "metadata": {},
   "source": [
    "Example II.2"
   ]
  },
  {
   "cell_type": "code",
   "execution_count": 4,
   "metadata": {},
   "outputs": [
    {
     "name": "stdout",
     "output_type": "stream",
     "text": [
      "newGEN None\n"
     ]
    }
   ],
   "source": []
  }
 ],
 "metadata": {
  "kernelspec": {
   "display_name": "Python 3.9.6 ('.venv': venv)",
   "language": "python",
   "name": "python3"
  },
  "language_info": {
   "codemirror_mode": {
    "name": "ipython",
    "version": 3
   },
   "file_extension": ".py",
   "mimetype": "text/x-python",
   "name": "python",
   "nbconvert_exporter": "python",
   "pygments_lexer": "ipython3",
   "version": "3.9.6"
  },
  "orig_nbformat": 4,
  "vscode": {
   "interpreter": {
    "hash": "1eb9d8a40e1d71896239391101f6f9ad6f2a61abccd67d873a4e7de60a909637"
   }
  }
 },
 "nbformat": 4,
 "nbformat_minor": 2
}
