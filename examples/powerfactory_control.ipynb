{
 "cells": [
  {
   "cell_type": "code",
   "execution_count": 1,
   "metadata": {},
   "outputs": [],
   "source": [
    "%load_ext autoreload\n",
    "%autoreload 2"
   ]
  },
  {
   "cell_type": "code",
   "execution_count": 2,
   "metadata": {},
   "outputs": [
    {
     "ename": "ModuleNotFoundError",
     "evalue": "No module named 'powerfactory_utils.controller'",
     "output_type": "error",
     "traceback": [
      "\u001b[1;31m---------------------------------------------------------------------------\u001b[0m",
      "\u001b[1;31mModuleNotFoundError\u001b[0m                       Traceback (most recent call last)",
      "\u001b[1;32mhomes\\evstd\\s0458299\\Documents\\powerfactory-utils_controller\\examples\\powerfactory_control.ipynb Zelle 2\u001b[0m in \u001b[0;36m<cell line: 3>\u001b[1;34m()\u001b[0m\n\u001b[0;32m      <a href='vscode-notebook-cell://etieeh.loc/homes/evstd/s0458299/Documents/powerfactory-utils_controller/examples/powerfactory_control.ipynb#W1sZmlsZQ%3D%3D?line=0'>1</a>\u001b[0m \u001b[39mimport\u001b[39;00m \u001b[39mpathlib\u001b[39;00m\n\u001b[1;32m----> <a href='vscode-notebook-cell://etieeh.loc/homes/evstd/s0458299/Documents/powerfactory-utils_controller/examples/powerfactory_control.ipynb#W1sZmlsZQ%3D%3D?line=2'>3</a>\u001b[0m \u001b[39mfrom\u001b[39;00m \u001b[39mpowerfactory_utils\u001b[39;00m\u001b[39m.\u001b[39;00m\u001b[39mcontroller\u001b[39;00m \u001b[39mimport\u001b[39;00m PowerfactoryController\n",
      "\u001b[1;31mModuleNotFoundError\u001b[0m: No module named 'powerfactory_utils.controller'"
     ]
    }
   ],
   "source": [
    "import pathlib\n",
    "\n",
    "from powerfactory_utils.controller import PowerfactoryController"
   ]
  },
  {
   "cell_type": "markdown",
   "metadata": {},
   "source": []
  },
  {
   "cell_type": "code",
   "execution_count": null,
   "metadata": {},
   "outputs": [],
   "source": [
    "PROJECT_NAME = \"PowerFactory-Utils\"  # may be also full path \"dir_name\\project_name\"\n",
    "GRID_NAME = \"HV_8_Bus\"\n",
    "PF_USER_PROFILE = \"s0458299\"    # specification may be necessary"
   ]
  },
  {
   "cell_type": "markdown",
   "metadata": {},
   "source": [
    "Example using controller.py"
   ]
  },
  {
   "cell_type": "code",
   "execution_count": null,
   "metadata": {},
   "outputs": [],
   "source": []
  }
 ],
 "metadata": {
  "kernelspec": {
   "display_name": "Python 3.9.6 ('.venv': venv)",
   "language": "python",
   "name": "python3"
  },
  "language_info": {
   "codemirror_mode": {
    "name": "ipython",
    "version": 3
   },
   "file_extension": ".py",
   "mimetype": "text/x-python",
   "name": "python",
   "nbconvert_exporter": "python",
   "pygments_lexer": "ipython3",
   "version": "3.9.6"
  },
  "orig_nbformat": 4,
  "vscode": {
   "interpreter": {
    "hash": "766653925d924b6147e88761523d4e210172078c6086675f1bd0d6fb5bc90c64"
   }
  }
 },
 "nbformat": 4,
 "nbformat_minor": 2
}
