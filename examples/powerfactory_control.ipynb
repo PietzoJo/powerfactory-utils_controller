{
 "cells": [
  {
   "cell_type": "code",
   "execution_count": 1,
   "metadata": {},
   "outputs": [],
   "source": [
    "%load_ext autoreload\n",
    "%autoreload 2"
   ]
  },
  {
   "cell_type": "code",
   "execution_count": 2,
   "metadata": {},
   "outputs": [],
   "source": [
    "import pathlib\n",
    "import os\n",
    "import sys\n",
    "from powerfactory_utils.exporter import PowerfactoryExporter\n",
    "from powerfactory_utils.controller import PowerfactoryController\n"
   ]
  },
  {
   "cell_type": "code",
   "execution_count": 3,
   "metadata": {},
   "outputs": [],
   "source": [
    "PROJECT_NAME = \"PowerFactory-Utils\"  # may be also full path \"dir_name\\project_name\"\n",
    "GRID_NAME = \"HV_8_Bus\"\n",
    "PF_USER_PROFILE = \"s0458299\"    # specification may be necessary\n"
   ]
  },
  {
   "cell_type": "code",
   "execution_count": 1,
   "metadata": {},
   "outputs": [],
   "source": [
    "#TODO: LÖSCHEN\n",
    "%load_ext autoreload\n",
    "%autoreload 2\n",
    "\n",
    "import pathlib\n",
    "import os\n",
    "import sys\n",
    "from powerfactory_utils.exporter import PowerfactoryExporter\n",
    "from powerfactory_utils.controller import PowerfactoryController\n",
    "\n",
    "PROJECT_NAME = \"PowerFactory-Utils\"  # may be also full path \"dir_name\\project_name\"\n",
    "GRID_NAME = \"HV_8_Bus\"\n",
    "PF_USER_PROFILE = \"s0458299\"    # specification may be necessary"
   ]
  },
  {
   "cell_type": "markdown",
   "metadata": {},
   "source": [
    "I- examples with aim:\n",
    "-----------------------------------------------------------\n",
    "- list of all grid generators\n",
    "- list of special grid generators like windpowerplants\n",
    "- information about gridelement like S,P,Q"
   ]
  },
  {
   "cell_type": "markdown",
   "metadata": {},
   "source": [
    "Example I.1 - using controller.py to get all generators"
   ]
  },
  {
   "cell_type": "code",
   "execution_count": 2,
   "metadata": {},
   "outputs": [
    {
     "name": "stdout",
     "output_type": "stream",
     "text": [
      "StatGenerator_1\n",
      "StatGenerator_2\n",
      "WTG\n",
      "StatGenerator_3\n",
      "newGEN\n",
      "{'name': 'StatGenerator_2', 'outserv': 0, 'load_fl_mode': 'DEF', 'power': 0.4000000059604645, 'cos_phi': 1.0, 'cos_attr': 0, 'cCategory': 'Statischer Generator'}\n"
     ]
    }
   ],
   "source": [
    "#initialize controller\n",
    "controller = PowerfactoryController(project_name=PROJECT_NAME, grid_name=GRID_NAME, powerfactory_user_profile=PF_USER_PROFILE)\n",
    "#get all grid generators \n",
    "generators1 = controller.get_all_generators()\n",
    "_=[print(gen.loc_name) for gen in generators1]\n",
    "\n",
    "print(controller.get_generator_attr(generators1[1]))\n"
   ]
  },
  {
   "cell_type": "markdown",
   "metadata": {},
   "source": [
    "Example I.2 - using controller.py to get all windpowerplants"
   ]
  },
  {
   "cell_type": "code",
   "execution_count": 4,
   "metadata": {},
   "outputs": [
    {
     "name": "stdout",
     "output_type": "stream",
     "text": [
      "WTG\n",
      "StatGenerator_3\n",
      "{'name': 'WTG', 'outserv': 0, 'load_fl_mode': 'DEF', 'power': 5.0, 'cos_phi': 1.0, 'cos_attr': 0, 'cCategory': 'Wind'}\n"
     ]
    }
   ],
   "source": [
    "#initialize controller\n",
    "controller = PowerfactoryController(project_name=PROJECT_NAME, grid_name=GRID_NAME, powerfactory_user_profile=PF_USER_PROFILE)\n",
    "#get all grid generators \n",
    "windturbine = controller.get_all_generators(category='Wind') #TODO: WIND, Statischer Generator, falls die implementiert werden, sind es immer deutschsprachige Wörter?\n",
    "_=[print(gen.loc_name) for gen in windturbine]\n",
    "print(controller.get_generator_attr(windturbine[0]))"
   ]
  },
  {
   "cell_type": "markdown",
   "metadata": {},
   "source": [
    "II - Create a new grid generator with special attributes:\n",
    "----------------------------------------------------------------------\n",
    "- cCategory: 'Something'\n"
   ]
  },
  {
   "cell_type": "code",
   "execution_count": 2,
   "metadata": {},
   "outputs": [],
   "source": [
    "#initialize controller\n",
    "controller = PowerfactoryController(project_name=PROJECT_NAME, grid_name=GRID_NAME, powerfactory_user_profile=PF_USER_PROFILE)\n"
   ]
  },
  {
   "cell_type": "markdown",
   "metadata": {},
   "source": [
    "Example II.1"
   ]
  },
  {
   "cell_type": "code",
   "execution_count": 3,
   "metadata": {},
   "outputs": [
    {
     "ename": "IndexError",
     "evalue": "list index out of range",
     "output_type": "error",
     "traceback": [
      "\u001b[1;31m---------------------------------------------------------------------------\u001b[0m",
      "\u001b[1;31mIndexError\u001b[0m                                Traceback (most recent call last)",
      "\u001b[1;32mhomes\\EVSTD\\s0458299\\Documents\\powerfactory-utils_controller\\examples\\powerfactory_control.ipynb Zelle 13\u001b[0m in \u001b[0;36m<cell line: 2>\u001b[1;34m()\u001b[0m\n\u001b[0;32m      <a href='vscode-notebook-cell://etieeh.loc/homes/EVSTD/s0458299/Documents/powerfactory-utils_controller/examples/powerfactory_control.ipynb#X15sZmlsZQ%3D%3D?line=0'>1</a>\u001b[0m NAME \u001b[39m=\u001b[39m \u001b[39m\"\u001b[39m\u001b[39mnewGEN\u001b[39m\u001b[39m\"\u001b[39m\n\u001b[1;32m----> <a href='vscode-notebook-cell://etieeh.loc/homes/EVSTD/s0458299/Documents/powerfactory-utils_controller/examples/powerfactory_control.ipynb#X15sZmlsZQ%3D%3D?line=1'>2</a>\u001b[0m new_one \u001b[39m=\u001b[39m controller\u001b[39m.\u001b[39;49mcreate_generator(name\u001b[39m=\u001b[39;49mNAME)\n\u001b[0;32m      <a href='vscode-notebook-cell://etieeh.loc/homes/EVSTD/s0458299/Documents/powerfactory-utils_controller/examples/powerfactory_control.ipynb#X15sZmlsZQ%3D%3D?line=2'>3</a>\u001b[0m generators1 \u001b[39m=\u001b[39m controller\u001b[39m.\u001b[39mget_all_generators()\n\u001b[0;32m      <a href='vscode-notebook-cell://etieeh.loc/homes/EVSTD/s0458299/Documents/powerfactory-utils_controller/examples/powerfactory_control.ipynb#X15sZmlsZQ%3D%3D?line=3'>4</a>\u001b[0m _\u001b[39m=\u001b[39m[\u001b[39mprint\u001b[39m(gen\u001b[39m.\u001b[39mloc_name) \u001b[39mfor\u001b[39;00m gen \u001b[39min\u001b[39;00m generators1]\n",
      "File \u001b[1;32m\\\\etieeh.loc\\homes\\EVSTD\\s0458299\\Documents\\powerfactory-utils_controller\\powerfactory_utils\\controller\\controller.py:48\u001b[0m, in \u001b[0;36mPowerfactoryController.create_generator\u001b[1;34m(self, name)\u001b[0m\n\u001b[0;32m     45\u001b[0m \u001b[39m#case 1: new generator -->needed information --> which bus --> is there open field on bus, if not, create new one\u001b[39;00m\n\u001b[0;32m     46\u001b[0m \u001b[39m#case 2: exchange generator with new template --> use same field\u001b[39;00m\n\u001b[0;32m     47\u001b[0m loc \u001b[39m=\u001b[39m \u001b[39mself\u001b[39m\u001b[39m.\u001b[39mpfi\u001b[39m.\u001b[39mgrid(\u001b[39mself\u001b[39m\u001b[39m.\u001b[39mgrid_name)\n\u001b[1;32m---> 48\u001b[0m dat \u001b[39m=\u001b[39m {\u001b[39m\"\u001b[39m\u001b[39mpgini\u001b[39m\u001b[39m\"\u001b[39m : \u001b[39m56\u001b[39m, \u001b[39m\"\u001b[39m\u001b[39mbus1\u001b[39m\u001b[39m\"\u001b[39m : bus[\u001b[39m0\u001b[39;49m]}\n\u001b[0;32m     49\u001b[0m element\u001b[39m=\u001b[39m\u001b[39mself\u001b[39m\u001b[39m.\u001b[39mpfi\u001b[39m.\u001b[39mcreate_object(name\u001b[39m=\u001b[39mname, class_name\u001b[39m=\u001b[39m\u001b[39m'\u001b[39m\u001b[39mElmGenstat\u001b[39m\u001b[39m'\u001b[39m,location\u001b[39m=\u001b[39mloc,data\u001b[39m=\u001b[39mdat)\n\u001b[0;32m     51\u001b[0m \u001b[39mprint\u001b[39m(ldf)\n",
      "\u001b[1;31mIndexError\u001b[0m: list index out of range"
     ]
    }
   ],
   "source": [
    "NAME = \"newGEN\"\n",
    "new_one = controller.create_generator(name=NAME)\n",
    "generators1 = controller.get_all_generators()\n",
    "_=[print(gen.loc_name) for gen in generators1]\n",
    "print(generators1[4].loc_name, generators1[4].bus1)\n"
   ]
  },
  {
   "cell_type": "markdown",
   "metadata": {},
   "source": [
    "Example II.2"
   ]
  },
  {
   "cell_type": "code",
   "execution_count": 3,
   "metadata": {},
   "outputs": [
    {
     "name": "stdout",
     "output_type": "stream",
     "text": [
      "[<powerfactory.DataObject <l1>\\s0458299.IntUser\\PowerFactory-Utils.IntPrj\\Bibliothek.IntPrjfolder\\Vorlagen.IntPrjfolder\\WindFarm_direct.IntTemplate</l1>>]\n",
      "[<powerfactory.DataObject <l1>\\s0458299.IntUser\\PowerFactory-Utils.IntPrj\\Netzmodell.IntPrjfolder\\Netzdaten.IntPrjfolder\\HV_8_Bus.ElmNet\\Node_1.ElmTerm\\Feld_2.StaCubic</l1>>, <powerfactory.DataObject <l1>\\s0458299.IntUser\\PowerFactory-Utils.IntPrj\\Netzmodell.IntPrjfolder\\Netzdaten.IntPrjfolder\\HV_8_Bus.ElmNet\\Node_3.ElmTerm\\Feld_2.StaCubic</l1>>, <powerfactory.DataObject <l1>\\s0458299.IntUser\\PowerFactory-Utils.IntPrj\\Netzmodell.IntPrjfolder\\Netzdaten.IntPrjfolder\\HV_8_Bus.ElmNet\\Node_4.ElmTerm\\Feld_2.StaCubic</l1>>, <powerfactory.DataObject <l1>\\s0458299.IntUser\\PowerFactory-Utils.IntPrj\\Netzmodell.IntPrjfolder\\Netzdaten.IntPrjfolder\\HV_8_Bus.ElmNet\\Node_2.ElmTerm\\Feld_2.StaCubic</l1>>, <powerfactory.DataObject <l1>\\s0458299.IntUser\\PowerFactory-Utils.IntPrj\\Netzmodell.IntPrjfolder\\Netzdaten.IntPrjfolder\\HV_8_Bus.ElmNet\\Node_6_MV.ElmTerm\\Feld_2.StaCubic</l1>>, <powerfactory.DataObject <l1>\\s0458299.IntUser\\PowerFactory-Utils.IntPrj\\Netzmodell.IntPrjfolder\\Netzdaten.IntPrjfolder\\HV_8_Bus.ElmNet\\Node_5_MV.ElmTerm\\Feld_2.StaCubic</l1>>, <powerfactory.DataObject <l1>\\s0458299.IntUser\\PowerFactory-Utils.IntPrj\\Netzmodell.IntPrjfolder\\Netzdaten.IntPrjfolder\\HV_8_Bus.ElmNet\\PCC_WTG.ElmTerm\\Feld_2.StaCubic</l1>>, <powerfactory.DataObject <l1>\\s0458299.IntUser\\PowerFactory-Utils.IntPrj\\Netzmodell.IntPrjfolder\\Netzdaten.IntPrjfolder\\HV_8_Bus.ElmNet\\Node_WTG.ElmTerm\\Feld_2.StaCubic</l1>>, <powerfactory.DataObject <l1>\\s0458299.IntUser\\PowerFactory-Utils.IntPrj\\Netzmodell.IntPrjfolder\\Netzdaten.IntPrjfolder\\HV_8_Bus.ElmNet\\Node_7_LV.ElmTerm\\Feld_2.StaCubic</l1>>]\n",
      "[<powerfactory.DataObject <l1>\\s0458299.IntUser\\PowerFactory-Utils.IntPrj\\Netzmodell.IntPrjfolder\\Netzdaten.IntPrjfolder\\HV_8_Bus.ElmNet\\Node_1.ElmTerm\\Feld_1.StaCubic</l1>>, <powerfactory.DataObject <l1>\\s0458299.IntUser\\PowerFactory-Utils.IntPrj\\Netzmodell.IntPrjfolder\\Netzdaten.IntPrjfolder\\HV_8_Bus.ElmNet\\Node_3.ElmTerm\\Feld_1.StaCubic</l1>>, <powerfactory.DataObject <l1>\\s0458299.IntUser\\PowerFactory-Utils.IntPrj\\Netzmodell.IntPrjfolder\\Netzdaten.IntPrjfolder\\HV_8_Bus.ElmNet\\Node_2.ElmTerm\\Feld_1.StaCubic</l1>>, <powerfactory.DataObject <l1>\\s0458299.IntUser\\PowerFactory-Utils.IntPrj\\Netzmodell.IntPrjfolder\\Netzdaten.IntPrjfolder\\HV_8_Bus.ElmNet\\Node_5_MV.ElmTerm\\Feld_1.StaCubic</l1>>, <powerfactory.DataObject <l1>\\s0458299.IntUser\\PowerFactory-Utils.IntPrj\\Netzmodell.IntPrjfolder\\Netzdaten.IntPrjfolder\\HV_8_Bus.ElmNet\\Node_8.ElmSubstat\\Field_1.ElmBay\\1.ElmTerm\\Feld_1.StaCubic</l1>>, <powerfactory.DataObject <l1>\\s0458299.IntUser\\PowerFactory-Utils.IntPrj\\Netzmodell.IntPrjfolder\\Netzdaten.IntPrjfolder\\HV_8_Bus.ElmNet\\Node_8.ElmSubstat\\Field_2.ElmBay\\Field_2.ElmTerm\\Feld_1.StaCubic</l1>>, <powerfactory.DataObject <l1>\\s0458299.IntUser\\PowerFactory-Utils.IntPrj\\Netzmodell.IntPrjfolder\\Netzdaten.IntPrjfolder\\HV_8_Bus.ElmNet\\PCC_WTG.ElmTerm\\Feld_1.StaCubic</l1>>, <powerfactory.DataObject <l1>\\s0458299.IntUser\\PowerFactory-Utils.IntPrj\\Netzmodell.IntPrjfolder\\Netzdaten.IntPrjfolder\\HV_8_Bus.ElmNet\\Node_WTG.ElmTerm\\Feld_1.StaCubic</l1>>, <powerfactory.DataObject <l1>\\s0458299.IntUser\\PowerFactory-Utils.IntPrj\\Netzmodell.IntPrjfolder\\Netzdaten.IntPrjfolder\\HV_8_Bus.ElmNet\\Node_7_LV.ElmTerm\\Feld_1.StaCubic</l1>>]\n"
     ]
    },
    {
     "ename": "IndexError",
     "evalue": "list index out of range",
     "output_type": "error",
     "traceback": [
      "\u001b[1;31m---------------------------------------------------------------------------\u001b[0m",
      "\u001b[1;31mIndexError\u001b[0m                                Traceback (most recent call last)",
      "\u001b[1;32mhomes\\EVSTD\\s0458299\\Documents\\powerfactory-utils_controller\\examples\\powerfactory_control.ipynb Zelle 15\u001b[0m in \u001b[0;36m<cell line: 2>\u001b[1;34m()\u001b[0m\n\u001b[0;32m      <a href='vscode-notebook-cell://etieeh.loc/homes/EVSTD/s0458299/Documents/powerfactory-utils_controller/examples/powerfactory_control.ipynb#X20sZmlsZQ%3D%3D?line=0'>1</a>\u001b[0m NAME \u001b[39m=\u001b[39m \u001b[39m\"\u001b[39m\u001b[39mStatischerGenerator3\u001b[39m\u001b[39m\"\u001b[39m\n\u001b[1;32m----> <a href='vscode-notebook-cell://etieeh.loc/homes/EVSTD/s0458299/Documents/powerfactory-utils_controller/examples/powerfactory_control.ipynb#X20sZmlsZQ%3D%3D?line=1'>2</a>\u001b[0m ele \u001b[39m=\u001b[39m controller\u001b[39m.\u001b[39;49mreplace_gen_template(name \u001b[39m=\u001b[39;49m NAME, temp\u001b[39m=\u001b[39;49m\u001b[39m'\u001b[39;49m\u001b[39mname2\u001b[39;49m\u001b[39m'\u001b[39;49m)\n\u001b[0;32m      <a href='vscode-notebook-cell://etieeh.loc/homes/EVSTD/s0458299/Documents/powerfactory-utils_controller/examples/powerfactory_control.ipynb#X20sZmlsZQ%3D%3D?line=2'>3</a>\u001b[0m _\u001b[39m=\u001b[39m[\u001b[39mprint\u001b[39m(el\u001b[39m.\u001b[39mloc_name) \u001b[39mfor\u001b[39;00m el \u001b[39min\u001b[39;00m ele]\n",
      "File \u001b[1;32m\\\\etieeh.loc\\homes\\EVSTD\\s0458299\\Documents\\powerfactory-utils_controller\\powerfactory_utils\\controller\\controller.py:84\u001b[0m, in \u001b[0;36mPowerfactoryController.replace_gen_template\u001b[1;34m(self, name, temp)\u001b[0m\n\u001b[0;32m     82\u001b[0m \u001b[39mif\u001b[39;00m new_one\u001b[39m.\u001b[39mloc_name \u001b[39m==\u001b[39m \u001b[39m'\u001b[39m\u001b[39mLine_WFNew\u001b[39m\u001b[39m'\u001b[39m:\n\u001b[0;32m     83\u001b[0m     new_one\u001b[39m.\u001b[39mbus2 \u001b[39m=\u001b[39m \u001b[39mself\u001b[39m\u001b[39m.\u001b[39mpfi\u001b[39m.\u001b[39mapp\u001b[39m.\u001b[39mGetCalcRelevantObjects(\u001b[39m'\u001b[39m\u001b[39mFeld_12.StaCubic\u001b[39m\u001b[39m'\u001b[39m)[\u001b[39m0\u001b[39m]\n\u001b[1;32m---> 84\u001b[0m     new_one\u001b[39m.\u001b[39mbus1 \u001b[39m=\u001b[39m bus_Feld2[\u001b[39m9\u001b[39;49m]\n\u001b[0;32m     85\u001b[0m \u001b[39mif\u001b[39;00m new_one\u001b[39m.\u001b[39mloc_name \u001b[39m==\u001b[39m \u001b[39m'\u001b[39m\u001b[39mLine_WTGNew\u001b[39m\u001b[39m'\u001b[39m:\n\u001b[0;32m     86\u001b[0m     new_one\u001b[39m.\u001b[39mbus1 \u001b[39m=\u001b[39m bus_Feld2[\u001b[39m10\u001b[39m]\n",
      "\u001b[1;31mIndexError\u001b[0m: list index out of range"
     ]
    }
   ],
   "source": [
    "NAME = \"StatischerGenerator3\"\n",
    "ele = controller.replace_gen_template(name = NAME, temp='name2')\n"
   ]
  }
 ],
 "metadata": {
  "kernelspec": {
   "display_name": "Python 3.9.6 ('.venv': venv)",
   "language": "python",
   "name": "python3"
  },
  "language_info": {
   "codemirror_mode": {
    "name": "ipython",
    "version": 3
   },
   "file_extension": ".py",
   "mimetype": "text/x-python",
   "name": "python",
   "nbconvert_exporter": "python",
   "pygments_lexer": "ipython3",
   "version": "3.9.6"
  },
  "orig_nbformat": 4,
  "vscode": {
   "interpreter": {
    "hash": "1eb9d8a40e1d71896239391101f6f9ad6f2a61abccd67d873a4e7de60a909637"
   }
  }
 },
 "nbformat": 4,
 "nbformat_minor": 2
}
